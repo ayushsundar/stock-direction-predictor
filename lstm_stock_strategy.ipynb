{
 "cells": [
  {
   "cell_type": "code",
   "execution_count": 1,
   "id": "5ed84ab2-97a5-487e-946e-b6228ac6fb0c",
   "metadata": {},
   "outputs": [],
   "source": [
    "import numpy as np\n",
    "import pandas as pd\n",
    "import yfinance as yf\n",
    "import matplotlib.pyplot as plt"
   ]
  },
  {
   "cell_type": "code",
   "execution_count": 2,
   "id": "97ea3e60-4184-4198-964d-c82364429411",
   "metadata": {},
   "outputs": [
    {
     "ename": "YFRateLimitError",
     "evalue": "Too Many Requests. Rate limited. Try after a while.",
     "output_type": "error",
     "traceback": [
      "\u001b[0;31m---------------------------------------------------------------------------\u001b[0m",
      "\u001b[0;31mYFRateLimitError\u001b[0m                          Traceback (most recent call last)",
      "Cell \u001b[0;32mIn[2], line 2\u001b[0m\n\u001b[1;32m      1\u001b[0m ticker \u001b[38;5;241m=\u001b[39m yf\u001b[38;5;241m.\u001b[39mTicker(\u001b[38;5;124m'\u001b[39m\u001b[38;5;124mAMZN\u001b[39m\u001b[38;5;124m'\u001b[39m)\n\u001b[0;32m----> 2\u001b[0m data \u001b[38;5;241m=\u001b[39m ticker\u001b[38;5;241m.\u001b[39mhistory(\u001b[38;5;124m'\u001b[39m\u001b[38;5;124m60mo\u001b[39m\u001b[38;5;124m'\u001b[39m)\n\u001b[1;32m      3\u001b[0m data\u001b[38;5;241m.\u001b[39mhead()\n\u001b[1;32m      4\u001b[0m data[\u001b[38;5;124m'\u001b[39m\u001b[38;5;124mDaily Returns\u001b[39m\u001b[38;5;124m'\u001b[39m] \u001b[38;5;241m=\u001b[39m data[\u001b[38;5;124m'\u001b[39m\u001b[38;5;124mClose\u001b[39m\u001b[38;5;124m'\u001b[39m]\u001b[38;5;241m.\u001b[39mpct_change()\n",
      "File \u001b[0;32m/opt/anaconda3/lib/python3.12/site-packages/yfinance/utils.py:104\u001b[0m, in \u001b[0;36mlog_indent_decorator.<locals>.wrapper\u001b[0;34m(*args, **kwargs)\u001b[0m\n\u001b[1;32m    101\u001b[0m logger\u001b[38;5;241m.\u001b[39mdebug(\u001b[38;5;124mf\u001b[39m\u001b[38;5;124m'\u001b[39m\u001b[38;5;124mEntering \u001b[39m\u001b[38;5;132;01m{\u001b[39;00mfunc\u001b[38;5;241m.\u001b[39m\u001b[38;5;18m__name__\u001b[39m\u001b[38;5;132;01m}\u001b[39;00m\u001b[38;5;124m()\u001b[39m\u001b[38;5;124m'\u001b[39m)\n\u001b[1;32m    103\u001b[0m \u001b[38;5;28;01mwith\u001b[39;00m IndentationContext():\n\u001b[0;32m--> 104\u001b[0m     result \u001b[38;5;241m=\u001b[39m func(\u001b[38;5;241m*\u001b[39margs, \u001b[38;5;241m*\u001b[39m\u001b[38;5;241m*\u001b[39mkwargs)\n\u001b[1;32m    106\u001b[0m logger\u001b[38;5;241m.\u001b[39mdebug(\u001b[38;5;124mf\u001b[39m\u001b[38;5;124m'\u001b[39m\u001b[38;5;124mExiting \u001b[39m\u001b[38;5;132;01m{\u001b[39;00mfunc\u001b[38;5;241m.\u001b[39m\u001b[38;5;18m__name__\u001b[39m\u001b[38;5;132;01m}\u001b[39;00m\u001b[38;5;124m()\u001b[39m\u001b[38;5;124m'\u001b[39m)\n\u001b[1;32m    107\u001b[0m \u001b[38;5;28;01mreturn\u001b[39;00m result\n",
      "File \u001b[0;32m/opt/anaconda3/lib/python3.12/site-packages/yfinance/base.py:80\u001b[0m, in \u001b[0;36mTickerBase.history\u001b[0;34m(self, *args, **kwargs)\u001b[0m\n\u001b[1;32m     78\u001b[0m \u001b[38;5;129m@utils\u001b[39m\u001b[38;5;241m.\u001b[39mlog_indent_decorator\n\u001b[1;32m     79\u001b[0m \u001b[38;5;28;01mdef\u001b[39;00m \u001b[38;5;21mhistory\u001b[39m(\u001b[38;5;28mself\u001b[39m, \u001b[38;5;241m*\u001b[39margs, \u001b[38;5;241m*\u001b[39m\u001b[38;5;241m*\u001b[39mkwargs) \u001b[38;5;241m-\u001b[39m\u001b[38;5;241m>\u001b[39m pd\u001b[38;5;241m.\u001b[39mDataFrame:\n\u001b[0;32m---> 80\u001b[0m     \u001b[38;5;28;01mreturn\u001b[39;00m \u001b[38;5;28mself\u001b[39m\u001b[38;5;241m.\u001b[39m_lazy_load_price_history()\u001b[38;5;241m.\u001b[39mhistory(\u001b[38;5;241m*\u001b[39margs, \u001b[38;5;241m*\u001b[39m\u001b[38;5;241m*\u001b[39mkwargs)\n",
      "File \u001b[0;32m/opt/anaconda3/lib/python3.12/site-packages/yfinance/utils.py:104\u001b[0m, in \u001b[0;36mlog_indent_decorator.<locals>.wrapper\u001b[0;34m(*args, **kwargs)\u001b[0m\n\u001b[1;32m    101\u001b[0m logger\u001b[38;5;241m.\u001b[39mdebug(\u001b[38;5;124mf\u001b[39m\u001b[38;5;124m'\u001b[39m\u001b[38;5;124mEntering \u001b[39m\u001b[38;5;132;01m{\u001b[39;00mfunc\u001b[38;5;241m.\u001b[39m\u001b[38;5;18m__name__\u001b[39m\u001b[38;5;132;01m}\u001b[39;00m\u001b[38;5;124m()\u001b[39m\u001b[38;5;124m'\u001b[39m)\n\u001b[1;32m    103\u001b[0m \u001b[38;5;28;01mwith\u001b[39;00m IndentationContext():\n\u001b[0;32m--> 104\u001b[0m     result \u001b[38;5;241m=\u001b[39m func(\u001b[38;5;241m*\u001b[39margs, \u001b[38;5;241m*\u001b[39m\u001b[38;5;241m*\u001b[39mkwargs)\n\u001b[1;32m    106\u001b[0m logger\u001b[38;5;241m.\u001b[39mdebug(\u001b[38;5;124mf\u001b[39m\u001b[38;5;124m'\u001b[39m\u001b[38;5;124mExiting \u001b[39m\u001b[38;5;132;01m{\u001b[39;00mfunc\u001b[38;5;241m.\u001b[39m\u001b[38;5;18m__name__\u001b[39m\u001b[38;5;132;01m}\u001b[39;00m\u001b[38;5;124m()\u001b[39m\u001b[38;5;124m'\u001b[39m)\n\u001b[1;32m    107\u001b[0m \u001b[38;5;28;01mreturn\u001b[39;00m result\n",
      "File \u001b[0;32m/opt/anaconda3/lib/python3.12/site-packages/yfinance/scrapers/history.py:175\u001b[0m, in \u001b[0;36mPriceHistory.history\u001b[0;34m(self, period, interval, start, end, prepost, actions, auto_adjust, back_adjust, repair, keepna, proxy, rounding, timeout, raise_errors)\u001b[0m\n\u001b[1;32m    173\u001b[0m         get_fn \u001b[38;5;241m=\u001b[39m \u001b[38;5;28mself\u001b[39m\u001b[38;5;241m.\u001b[39m_data\u001b[38;5;241m.\u001b[39mcache_get\n\u001b[1;32m    174\u001b[0m \u001b[38;5;28;01mtry\u001b[39;00m:\n\u001b[0;32m--> 175\u001b[0m     data \u001b[38;5;241m=\u001b[39m get_fn(\n\u001b[1;32m    176\u001b[0m         url\u001b[38;5;241m=\u001b[39murl,\n\u001b[1;32m    177\u001b[0m         params\u001b[38;5;241m=\u001b[39mparams,\n\u001b[1;32m    178\u001b[0m         proxy\u001b[38;5;241m=\u001b[39mproxy,\n\u001b[1;32m    179\u001b[0m         timeout\u001b[38;5;241m=\u001b[39mtimeout\n\u001b[1;32m    180\u001b[0m     )\n\u001b[1;32m    181\u001b[0m     \u001b[38;5;28;01mif\u001b[39;00m \u001b[38;5;124m\"\u001b[39m\u001b[38;5;124mWill be right back\u001b[39m\u001b[38;5;124m\"\u001b[39m \u001b[38;5;129;01min\u001b[39;00m data\u001b[38;5;241m.\u001b[39mtext \u001b[38;5;129;01mor\u001b[39;00m data \u001b[38;5;129;01mis\u001b[39;00m \u001b[38;5;28;01mNone\u001b[39;00m:\n\u001b[1;32m    182\u001b[0m         \u001b[38;5;28;01mraise\u001b[39;00m \u001b[38;5;167;01mRuntimeError\u001b[39;00m(\u001b[38;5;124m\"\u001b[39m\u001b[38;5;124m*** YAHOO! FINANCE IS CURRENTLY DOWN! ***\u001b[39m\u001b[38;5;130;01m\\n\u001b[39;00m\u001b[38;5;124m\"\u001b[39m\n\u001b[1;32m    183\u001b[0m                            \u001b[38;5;124m\"\u001b[39m\u001b[38;5;124mOur engineers are working quickly to resolve \u001b[39m\u001b[38;5;124m\"\u001b[39m\n\u001b[1;32m    184\u001b[0m                            \u001b[38;5;124m\"\u001b[39m\u001b[38;5;124mthe issue. Thank you for your patience.\u001b[39m\u001b[38;5;124m\"\u001b[39m)\n",
      "File \u001b[0;32m/opt/anaconda3/lib/python3.12/site-packages/yfinance/utils.py:104\u001b[0m, in \u001b[0;36mlog_indent_decorator.<locals>.wrapper\u001b[0;34m(*args, **kwargs)\u001b[0m\n\u001b[1;32m    101\u001b[0m logger\u001b[38;5;241m.\u001b[39mdebug(\u001b[38;5;124mf\u001b[39m\u001b[38;5;124m'\u001b[39m\u001b[38;5;124mEntering \u001b[39m\u001b[38;5;132;01m{\u001b[39;00mfunc\u001b[38;5;241m.\u001b[39m\u001b[38;5;18m__name__\u001b[39m\u001b[38;5;132;01m}\u001b[39;00m\u001b[38;5;124m()\u001b[39m\u001b[38;5;124m'\u001b[39m)\n\u001b[1;32m    103\u001b[0m \u001b[38;5;28;01mwith\u001b[39;00m IndentationContext():\n\u001b[0;32m--> 104\u001b[0m     result \u001b[38;5;241m=\u001b[39m func(\u001b[38;5;241m*\u001b[39margs, \u001b[38;5;241m*\u001b[39m\u001b[38;5;241m*\u001b[39mkwargs)\n\u001b[1;32m    106\u001b[0m logger\u001b[38;5;241m.\u001b[39mdebug(\u001b[38;5;124mf\u001b[39m\u001b[38;5;124m'\u001b[39m\u001b[38;5;124mExiting \u001b[39m\u001b[38;5;132;01m{\u001b[39;00mfunc\u001b[38;5;241m.\u001b[39m\u001b[38;5;18m__name__\u001b[39m\u001b[38;5;132;01m}\u001b[39;00m\u001b[38;5;124m()\u001b[39m\u001b[38;5;124m'\u001b[39m)\n\u001b[1;32m    107\u001b[0m \u001b[38;5;28;01mreturn\u001b[39;00m result\n",
      "File \u001b[0;32m/opt/anaconda3/lib/python3.12/site-packages/yfinance/data.py:347\u001b[0m, in \u001b[0;36mYfData.get\u001b[0;34m(self, url, user_agent_headers, params, proxy, timeout)\u001b[0m\n\u001b[1;32m    345\u001b[0m \u001b[38;5;129m@utils\u001b[39m\u001b[38;5;241m.\u001b[39mlog_indent_decorator\n\u001b[1;32m    346\u001b[0m \u001b[38;5;28;01mdef\u001b[39;00m \u001b[38;5;21mget\u001b[39m(\u001b[38;5;28mself\u001b[39m, url, user_agent_headers\u001b[38;5;241m=\u001b[39m\u001b[38;5;28;01mNone\u001b[39;00m, params\u001b[38;5;241m=\u001b[39m\u001b[38;5;28;01mNone\u001b[39;00m, proxy\u001b[38;5;241m=\u001b[39m\u001b[38;5;28;01mNone\u001b[39;00m, timeout\u001b[38;5;241m=\u001b[39m\u001b[38;5;241m30\u001b[39m):\n\u001b[0;32m--> 347\u001b[0m     \u001b[38;5;28;01mreturn\u001b[39;00m \u001b[38;5;28mself\u001b[39m\u001b[38;5;241m.\u001b[39m_make_request(url, request_method \u001b[38;5;241m=\u001b[39m \u001b[38;5;28mself\u001b[39m\u001b[38;5;241m.\u001b[39m_session\u001b[38;5;241m.\u001b[39mget, user_agent_headers\u001b[38;5;241m=\u001b[39muser_agent_headers, params\u001b[38;5;241m=\u001b[39mparams, proxy\u001b[38;5;241m=\u001b[39mproxy, timeout\u001b[38;5;241m=\u001b[39mtimeout)\n",
      "File \u001b[0;32m/opt/anaconda3/lib/python3.12/site-packages/yfinance/utils.py:104\u001b[0m, in \u001b[0;36mlog_indent_decorator.<locals>.wrapper\u001b[0;34m(*args, **kwargs)\u001b[0m\n\u001b[1;32m    101\u001b[0m logger\u001b[38;5;241m.\u001b[39mdebug(\u001b[38;5;124mf\u001b[39m\u001b[38;5;124m'\u001b[39m\u001b[38;5;124mEntering \u001b[39m\u001b[38;5;132;01m{\u001b[39;00mfunc\u001b[38;5;241m.\u001b[39m\u001b[38;5;18m__name__\u001b[39m\u001b[38;5;132;01m}\u001b[39;00m\u001b[38;5;124m()\u001b[39m\u001b[38;5;124m'\u001b[39m)\n\u001b[1;32m    103\u001b[0m \u001b[38;5;28;01mwith\u001b[39;00m IndentationContext():\n\u001b[0;32m--> 104\u001b[0m     result \u001b[38;5;241m=\u001b[39m func(\u001b[38;5;241m*\u001b[39margs, \u001b[38;5;241m*\u001b[39m\u001b[38;5;241m*\u001b[39mkwargs)\n\u001b[1;32m    106\u001b[0m logger\u001b[38;5;241m.\u001b[39mdebug(\u001b[38;5;124mf\u001b[39m\u001b[38;5;124m'\u001b[39m\u001b[38;5;124mExiting \u001b[39m\u001b[38;5;132;01m{\u001b[39;00mfunc\u001b[38;5;241m.\u001b[39m\u001b[38;5;18m__name__\u001b[39m\u001b[38;5;132;01m}\u001b[39;00m\u001b[38;5;124m()\u001b[39m\u001b[38;5;124m'\u001b[39m)\n\u001b[1;32m    107\u001b[0m \u001b[38;5;28;01mreturn\u001b[39;00m result\n",
      "File \u001b[0;32m/opt/anaconda3/lib/python3.12/site-packages/yfinance/data.py:409\u001b[0m, in \u001b[0;36mYfData._make_request\u001b[0;34m(self, url, request_method, user_agent_headers, body, params, proxy, timeout)\u001b[0m\n\u001b[1;32m    407\u001b[0m     \u001b[38;5;66;03m# Raise exception if rate limited\u001b[39;00m\n\u001b[1;32m    408\u001b[0m     \u001b[38;5;28;01mif\u001b[39;00m response\u001b[38;5;241m.\u001b[39mstatus_code \u001b[38;5;241m==\u001b[39m \u001b[38;5;241m429\u001b[39m:\n\u001b[0;32m--> 409\u001b[0m         \u001b[38;5;28;01mraise\u001b[39;00m YFRateLimitError()\n\u001b[1;32m    411\u001b[0m \u001b[38;5;28;01mreturn\u001b[39;00m response\n",
      "\u001b[0;31mYFRateLimitError\u001b[0m: Too Many Requests. Rate limited. Try after a while."
     ]
    }
   ],
   "source": [
    "ticker = yf.Ticker('AMZN')\n",
    "data = ticker.history('60mo')\n",
    "data.head()\n",
    "data['Daily Returns'] = data['Close'].pct_change()"
   ]
  },
  {
   "cell_type": "code",
   "execution_count": null,
   "id": "b2e33dc9-70a7-4cd9-8f37-8acbbfef9e7c",
   "metadata": {},
   "outputs": [],
   "source": [
    "data['Close'].plot(title = 'AMZN closing costs')\n",
    "plt.xlabel('date')\n",
    "plt.ylabel('closing cost')\n",
    "plt.show()"
   ]
  },
  {
   "cell_type": "code",
   "execution_count": null,
   "id": "d1569666-b190-4c2b-a413-3d5f2990706d",
   "metadata": {},
   "outputs": [],
   "source": [
    "data[\"MA50\"] = data['Close'].rolling(window = 50).mean()\n",
    "data[\"MA200\"] = data['Close'].rolling(window = 200).mean()\n",
    "data[\"Rolling Average Trend\"] = data['Close'] > data[\"MA200\"]"
   ]
  },
  {
   "cell_type": "markdown",
   "id": "99ce2d1a-12b8-44d8-bea6-274d9b3b2093",
   "metadata": {},
   "source": [
    "Some interesing instights from the rolling average. When you see the short term rolling average is lower than the long term rolling average, could indicate a potential 'buy', and if the short term is way higher than the long term rolling average, could indicate a sell."
   ]
  },
  {
   "cell_type": "code",
   "execution_count": null,
   "id": "c0cad863-5918-46fa-bedf-8a4aa6fc32a1",
   "metadata": {},
   "outputs": [],
   "source": [
    "data[['Close','MA50','MA200']].plot(title = \"AMZN Closing price comapred to 50 and 200 day rolling averages\")\n",
    "plt.xlabel('date')\n",
    "plt.ylabel('price')\n",
    "plt.show"
   ]
  },
  {
   "cell_type": "markdown",
   "id": "48aed8e4-0468-4b05-ae14-291402606702",
   "metadata": {},
   "source": [
    "# Rule-Based Momentum and Volatility Factor Model"
   ]
  },
  {
   "cell_type": "markdown",
   "id": "c97f9135-e321-4db6-94e4-a2d763694ad1",
   "metadata": {},
   "source": [
    "Using this line to try and compare the velocity of price changes compared to the actual price levels themselves."
   ]
  },
  {
   "cell_type": "code",
   "execution_count": null,
   "id": "3abea571-0cc6-4b90-8128-31ade7852f72",
   "metadata": {},
   "outputs": [],
   "source": [
    "data['10day'] = (data['Close'] / data['Close'].shift(10)) - 1\n",
    "data['60day'] = (data['Close'] / data['Close'].shift(60)) - 1\n",
    "data['180day'] = (data['Close'] / data['Close'].shift(180)) - 1"
   ]
  },
  {
   "cell_type": "markdown",
   "id": "6cec40bc-8f49-4a9d-b8aa-4b5a4498ffc5",
   "metadata": {},
   "source": [
    "Calculating the volatilities for each one of the time lookback periods(10 days, 60 days, 180 days)"
   ]
  },
  {
   "cell_type": "code",
   "execution_count": null,
   "id": "fda29e23-3085-4a9e-8a82-9717e00e396d",
   "metadata": {},
   "outputs": [],
   "source": [
    "data['10 Day Volatility'] = data['Daily Returns'].rolling(window = 10).std()\n",
    "data['60 Day Volatility'] = data['Daily Returns'].rolling(window = 60).std()\n",
    "data['180 Day Volatility'] = data['Daily Returns'].rolling(window = 180).std()"
   ]
  },
  {
   "cell_type": "markdown",
   "id": "afbf5e70-8956-4b76-82e3-0de3b8899a15",
   "metadata": {},
   "source": [
    "Using Momentum, Volatility, and the Rolling Average to determine my signal. If the stock isn't too volatile (under .02), the momentum is greater than .05, and the current close price is greater than the rolling average, then buy. If the opposite is true and the volatility is greater than .02 and the momentum is less than .05, then hold. Otherwise, sell."
   ]
  },
  {
   "cell_type": "code",
   "execution_count": null,
   "id": "782d63bf-6422-4fcb-b244-57416d3513b7",
   "metadata": {},
   "outputs": [],
   "source": [
    "data['10 Day Signal'] = np.where((data['Rolling Average Trend']) & (data['10 Day Volatility'] < .02) & (data['10day'] > .05), 1, np.where((data['10 Day Volatility'] < .02) & (data['10day'] < -.05), -1, 0))\n",
    "data['60 Day Signal'] = np.where((data['Rolling Average Trend']) & (data['60 Day Volatility'] < .02) & (data['60day'] > .05), 1, np.where((data['60 Day Volatility'] < .02) & (data['60day'] < -.05), -1, 0))\n",
    "data['180 Day Signal'] = np.where((data['Rolling Average Trend']) & (data['180 Day Volatility'] < .02) & (data['180day'] > .05), 1, np.where((data['180 Day Volatility'] < .02) & (data['180day'] < -.05), -1, 0))\n",
    "\n",
    "data['10 Day position'] = data['10 Day Signal'].shift(1)\n",
    "data['60 Day position'] = data['60 Day Signal'].shift(1)\n",
    "data['180 Day position'] = data['180 Day Signal'].shift(1)\n",
    "\n",
    "data['10 Day Momentum Daily Returns'] = data['10 Day position'] * data['Daily Returns']\n",
    "data['60 Day Momentum Daily Returns'] = data['60 Day position'] * data['Daily Returns']\n",
    "data['180 Day Momentum Daily Returns'] = data['180 Day position'] * data['Daily Returns']\n",
    "\n",
    "data['10 Day Momentum Cumulative Returns'] = (1 + data['10 Day Momentum Daily Returns']).cumprod()\n",
    "data['60 Day Momentum Cumulative Returns'] = (1 + data['60 Day Momentum Daily Returns']).cumprod()\n",
    "data['180 Day Momentum Cumulative Returns'] = (1 + data['180 Day Momentum Daily Returns']).cumprod()\n",
    "\n",
    "data[['10 Day Momentum Cumulative Returns', '60 Day Momentum Cumulative Returns', '180 Day Momentum Cumulative Returns']].plot(title = '10, 60, and 180 day momentum returns')\n",
    "plt.xlabel('date')\n",
    "plt.ylabel('returns')\n",
    "plt.show"
   ]
  },
  {
   "cell_type": "markdown",
   "id": "85d34921-2f90-4d5e-aa34-5a8e2e9a4b54",
   "metadata": {},
   "source": [
    "Saw that the cumulative returns on the 180 day Momentum was the highest, so comparing that to a Buy and Hold for AAPL shares"
   ]
  },
  {
   "cell_type": "code",
   "execution_count": null,
   "id": "9e35c358-ef8a-41af-93d3-958548bfe09b",
   "metadata": {},
   "outputs": [],
   "source": [
    "data['Momentum Cumulative Returns'] = (1 + data['180 Day Momentum Daily Returns']).cumprod()\n",
    "data['Buy and Hold Cumulative Returns'] = (1 + data['Daily Returns']).cumprod()"
   ]
  },
  {
   "cell_type": "markdown",
   "id": "72d1fc16-377e-4ced-8c6f-5b3effcc4485",
   "metadata": {},
   "source": [
    "Evidently, a simple rule-based factor model isn't going to outperform buying and holding the stock itself. The momentum cumulative returns went up around 22% while the stock itself went up over 60%"
   ]
  },
  {
   "cell_type": "code",
   "execution_count": null,
   "id": "aa46367a-5f45-420f-998e-52b010036996",
   "metadata": {},
   "outputs": [],
   "source": [
    "data[['Momentum Cumulative Returns', 'Buy and Hold Cumulative Returns']].plot(title = 'Momentum vs Buy and Hold Returns')\n",
    "plt.xlabel('Date')\n",
    "plt.ylabel('Returns')\n",
    "plt.show"
   ]
  },
  {
   "cell_type": "code",
   "execution_count": null,
   "id": "bfc44be2-e25c-4f3f-a365-892b3f4afecf",
   "metadata": {},
   "outputs": [],
   "source": [
    "import tensorflow as tf\n",
    "from tensorflow.keras.models import Sequential\n",
    "from tensorflow.keras.layers import LSTM, Dense, Dropout, Input\n",
    "from sklearn.preprocessing import MinMaxScaler\n",
    "from sklearn.model_selection import TimeSeriesSplit\n",
    "from sklearn.metrics import accuracy_score, classification_report\n",
    "from tensorflow.keras.callbacks import EarlyStopping"
   ]
  },
  {
   "cell_type": "markdown",
   "id": "caef5276-099a-4002-990f-7f9d56986d49",
   "metadata": {},
   "source": [
    "# Creating a LSTM model to predict what direction the stock will move the next day"
   ]
  },
  {
   "cell_type": "code",
   "execution_count": null,
   "id": "e274287e-440b-41a9-a04d-91be5a985c61",
   "metadata": {},
   "outputs": [],
   "source": [
    "sequence_length = 50\n",
    "features = ['10day', '60day', '180day', '10 Day Volatility', '60 Day Volatility', '180 Day Volatility', 'Rolling Average Trend', 'Daily Returns']\n",
    "data['Target'] = np.where(data['Close'].shift(-1) > data['Close'], 1,0) \n",
    "data.dropna(inplace=True)"
   ]
  },
  {
   "cell_type": "code",
   "execution_count": null,
   "id": "107da141-9f1d-4f39-9d2e-5dc87a210e74",
   "metadata": {},
   "outputs": [],
   "source": [
    "# Storing the input sequences and labels in arrays for the model\n",
    "def create_sequence(sequence_length, data):\n",
    "    x, y = [], []\n",
    "    for i in range(len(data) - sequence_length):\n",
    "        y.append(data['Target'].iloc[i + sequence_length])\n",
    "        x.append(data[features].iloc[i:i + sequence_length].values)\n",
    "    return np.array(x), np.array(y)\n",
    "x_all, y_all = create_sequence(sequence_length, data)"
   ]
  },
  {
   "cell_type": "code",
   "execution_count": null,
   "id": "1780f24a-d1bf-4d8d-a389-4f0c176db7c3",
   "metadata": {},
   "outputs": [],
   "source": [
    "data['Actual Return'] = data['Close'].pct_change().shift(-1)"
   ]
  },
  {
   "cell_type": "code",
   "execution_count": null,
   "id": "86d62bb8-cc1f-4a96-b174-d7216f80bd29",
   "metadata": {},
   "outputs": [],
   "source": [
    "# Splitting into 5 validations across the five years in data\n",
    "tscv = TimeSeriesSplit(n_splits=5)\n",
    "validation_accuracy = []\n",
    "all_y_probs = []\n",
    "all_actual_returns = []\n",
    "\n",
    "for fold, (train_index, val_index) in enumerate(tscv.split(x_all)):\n",
    "    scaler = MinMaxScaler()\n",
    "    # Combining samples and features into one so it's 2D for the MinMaxScaler\n",
    "    x_train_2d = x_all[train_index].reshape(-1, x_all.shape[-1])\n",
    "    x_val_2d = x_all[val_index].reshape(-1, x_all.shape[-1])\n",
    "\n",
    "    # Fitting scale only on training data, transform both\n",
    "    x_train = scaler.fit_transform(x_train_2d).reshape(-1, sequence_length, x_all.shape[-1])\n",
    "    x_val = scaler.transform(x_val_2d).reshape(-1, sequence_length, x_all.shape[-1])\n",
    "\n",
    "    y_train, y_val = y_all[train_index], y_all[val_index]\n",
    "    model = Sequential([\n",
    "        Input(shape=(sequence_length, len(features))),\n",
    "        LSTM(64, return_sequences=True),\n",
    "        Dropout(0.2),\n",
    "        LSTM(32),\n",
    "        Dropout(0.2),\n",
    "        Dense(1, activation='sigmoid')\n",
    "    ])\n",
    "    model.compile(optimizer='adam',loss='binary_crossentropy', metrics=['accuracy'])\n",
    "    # If the model is doing worse on validation data, stop training\n",
    "    early_stop = EarlyStopping(monitor='val_loss', patience = 5, restore_best_weights = True, verbose = 0)\n",
    "\n",
    "    print(f\"\\nFold {fold+1} training...\")\n",
    "    model.fit(x_train, y_train, \n",
    "          validation_data = (x_val, y_val),\n",
    "          epochs=60,\n",
    "          batch_size = 32,\n",
    "          callbacks=[early_stop],\n",
    "          verbose = 1)\n",
    "    loss, acc = model.evaluate(x_val, y_val, verbose = 0)\n",
    "    print(f\"Fold {fold+1} val_accuracy: {acc:.4f}\")\n",
    "    validation_accuracy.append(acc)\n",
    "\n",
    "    #Save all the predictions and actual returns for backtesting\n",
    "    y_probs = model.predict(x_val).flatten()\n",
    "    all_y_probs.extend(y_probs)\n",
    "    actual_returns = data['Actual Return'].iloc[val_index].values\n",
    "    all_actual_returns.extend(actual_returns)\n"
   ]
  },
  {
   "cell_type": "markdown",
   "id": "58f1d3e7-5b03-4793-8651-8d35be51f58d",
   "metadata": {},
   "source": [
    "### Have a section in the medium article why I did early stopping, make some graph about the average epoch value with and without early stop "
   ]
  },
  {
   "cell_type": "markdown",
   "id": "bf507afd-7f62-4c1f-a6e0-a547190acfcc",
   "metadata": {},
   "source": [
    "## Backtesting current model state and seeing outcome"
   ]
  },
  {
   "cell_type": "code",
   "execution_count": null,
   "id": "d2766d11-7119-4604-8dd9-1980f17eee4b",
   "metadata": {},
   "outputs": [],
   "source": [
    "signals = []\n",
    "for p in all_y_probs:\n",
    "    if p > .515:\n",
    "        signals.append(1) # buy\n",
    "    elif p < .485:\n",
    "        signals.append(-1) # sell\n",
    "    else:\n",
    "        signals.append(0) # nothing\n",
    "\n",
    "signals = np.array(signals)\n",
    "actual_returns = np.array(all_actual_returns)\n",
    "strategy_returns = signals * actual_returns\n",
    "\n",
    "cumulative_returns = np.cumprod(1 + strategy_returns) - 1\n",
    "\n",
    "sharpe = np.mean(strategy_returns) / np.std(strategy_returns) * np.sqrt(252)\n",
    "win_rate = np.mean(strategy_returns > 0)\n",
    "exposure = np.mean(signals != 0)\n",
    "\n",
    "print(f\"Sharpe Ratio: {sharpe:.2f}\")\n",
    "print(f\"Win Rate: {win_rate:.2%}\")\n",
    "print(f\"Market Exposure: {exposure:.2%}\")"
   ]
  },
  {
   "cell_type": "code",
   "execution_count": null,
   "id": "7a4fd093-7abc-471e-88da-688f53bb3864",
   "metadata": {},
   "outputs": [],
   "source": [
    "print(\"Max daily return:\", np.max(strategy_returns))\n",
    "print(\"Min daily return:\", np.min(strategy_returns))\n"
   ]
  },
  {
   "cell_type": "code",
   "execution_count": null,
   "id": "52f0ed0f-3e7c-46d3-96fa-b44ae94ffeba",
   "metadata": {},
   "outputs": [],
   "source": [
    "import matplotlib.pyplot as plt\n",
    "\n",
    "plt.hist(all_y_probs, bins=50)\n",
    "plt.title(\"Histogram of Model Predicted Probabilities\")\n",
    "plt.xlabel(\"Predicted Probability\")\n",
    "plt.ylabel(\"Frequency\")\n",
    "plt.grid(True)\n",
    "plt.show()\n"
   ]
  },
  {
   "cell_type": "code",
   "execution_count": null,
   "id": "f5956e59-daea-42f8-a805-449587a010b1",
   "metadata": {},
   "outputs": [],
   "source": [
    "# Seeing how confident my model is in terms of predictions\n",
    "print(\"Total predictions collected:\", len(all_y_probs))\n",
    "print(\"Min predicted prob:\", np.min(all_y_probs))\n",
    "print(\"Max predicted prob:\", np.max(all_y_probs))\n"
   ]
  },
  {
   "cell_type": "code",
   "execution_count": null,
   "id": "7f3a123f-2199-4582-a01b-e1f510e1149b",
   "metadata": {},
   "outputs": [],
   "source": [
    "import seaborn as sns\n",
    "import pandas as pd\n",
    "\n",
    "df_bt = pd.DataFrame({\n",
    "    \"Strategy Return\": strategy_returns,\n",
    "    \"Signal\": signals,\n",
    "    \"Probability\": all_y_probs,\n",
    "    \"Actual Return\": actual_returns\n",
    "})\n",
    "\n",
    "# Only show executed trades\n",
    "executed_trades = df_bt[df_bt[\"Signal\"] != 0]\n",
    "sns.histplot(executed_trades[\"Strategy Return\"], kde=True)\n",
    "plt.title(\"Distribution of Strategy Returns on Trades\")\n",
    "plt.show()"
   ]
  },
  {
   "cell_type": "code",
   "execution_count": null,
   "id": "1d979d5a-8da9-483f-a384-090a252a27be",
   "metadata": {},
   "outputs": [],
   "source": []
  }
 ],
 "metadata": {
  "kernelspec": {
   "display_name": "Python 3 (ipykernel)",
   "language": "python",
   "name": "python3"
  },
  "language_info": {
   "codemirror_mode": {
    "name": "ipython",
    "version": 3
   },
   "file_extension": ".py",
   "mimetype": "text/x-python",
   "name": "python",
   "nbconvert_exporter": "python",
   "pygments_lexer": "ipython3",
   "version": "3.12.4"
  }
 },
 "nbformat": 4,
 "nbformat_minor": 5
}
